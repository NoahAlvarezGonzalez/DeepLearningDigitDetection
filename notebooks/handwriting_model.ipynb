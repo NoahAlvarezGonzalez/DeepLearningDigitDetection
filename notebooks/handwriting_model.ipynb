{
 "cells": [
  {
   "cell_type": "markdown",
   "metadata": {},
   "source": [
    "# Import"
   ]
  },
  {
   "cell_type": "code",
   "execution_count": 1,
   "metadata": {},
   "outputs": [],
   "source": [
    "import numpy as np\n",
    "import mnist #Get data from\n",
    "import matplotlib.pyplot as plt #Graph\n",
    "from tensorflow.keras.models import Sequential #ANN Model\n",
    "from tensorflow.keras.layers import Dense #Layer in the ANN\n",
    "from tensorflow.keras.layers import Flatten\n",
    "from tensorflow.keras.utils import to_categorical"
   ]
  },
  {
   "cell_type": "markdown",
   "metadata": {},
   "source": [
    "# Load the dataset"
   ]
  },
  {
   "cell_type": "code",
   "execution_count": 2,
   "metadata": {},
   "outputs": [],
   "source": [
    "train_images = mnist.train_images() # training data images\n",
    "train_labels = mnist.train_labels() # training data labels\n",
    "test_images = mnist.test_images() # training data images\n",
    "test_labels = mnist.test_labels() # training data labels"
   ]
  },
  {
   "cell_type": "markdown",
   "metadata": {},
   "source": [
    "# Normalize the images"
   ]
  },
  {
   "cell_type": "code",
   "execution_count": 3,
   "metadata": {},
   "outputs": [],
   "source": [
    "# Normalize the pixels values from [0, 255] to [0, 1] to make the neural network easier to train.\n",
    "\n",
    "train_images = (train_images/255)\n",
    "test_images = (test_images/255)"
   ]
  },
  {
   "cell_type": "markdown",
   "metadata": {},
   "source": [
    "# Build the model"
   ]
  },
  {
   "cell_type": "code",
   "execution_count": 6,
   "metadata": {},
   "outputs": [],
   "source": [
    "# 3 layers\n",
    "# 2 layers with 64 neurons and the relu fonction\n",
    "# 1 layer with 10 neurons and the softmax function\n",
    "\n",
    "model = Sequential()\n",
    "model.add(Flatten(input_shape=(28,28,1)))\n",
    "model.add(Dense(64, activation=\"relu\"))\n",
    "model.add(Dense(64, activation=\"relu\"))\n",
    "model.add(Dense(10, activation=\"softmax\"))"
   ]
  },
  {
   "cell_type": "markdown",
   "metadata": {},
   "source": [
    "# Compile the model"
   ]
  },
  {
   "cell_type": "code",
   "execution_count": 7,
   "metadata": {},
   "outputs": [],
   "source": [
    "# Loss function mesure how well the model did on training, and then tries to improve on it using the optimizer\n",
    "model.compile(optimizer=\"adam\",\n",
    "              loss=\"categorical_crossentropy\", # classes greater than 2)\n",
    "              metrics = [\"accuracy\"])"
   ]
  },
  {
   "cell_type": "markdown",
   "metadata": {},
   "source": [
    "# Train the model"
   ]
  },
  {
   "cell_type": "code",
   "execution_count": 8,
   "metadata": {},
   "outputs": [
    {
     "name": "stdout",
     "output_type": "stream",
     "text": [
      "Epoch 1/5\n",
      "1875/1875 [==============================] - 2s 676us/step - loss: 0.4949 - accuracy: 0.8531\n",
      "Epoch 2/5\n",
      "1875/1875 [==============================] - 1s 692us/step - loss: 0.1316 - accuracy: 0.9608\n",
      "Epoch 3/5\n",
      "1875/1875 [==============================] - 1s 678us/step - loss: 0.0927 - accuracy: 0.9708\n",
      "Epoch 4/5\n",
      "1875/1875 [==============================] - 1s 669us/step - loss: 0.0706 - accuracy: 0.9779\n",
      "Epoch 5/5\n",
      "1875/1875 [==============================] - 1s 676us/step - loss: 0.0580 - accuracy: 0.9822\n"
     ]
    },
    {
     "data": {
      "text/plain": [
       "<tensorflow.python.keras.callbacks.History at 0x7fb34bbb08b0>"
      ]
     },
     "execution_count": 8,
     "metadata": {},
     "output_type": "execute_result"
    }
   ],
   "source": [
    "model.fit(train_images,\n",
    "         to_categorical(train_labels), # Ex : 2 it expects : [0,0,0,1,0,0,0,0,0,0])\n",
    "          epochs = 5, # The number of iteration over the entire dataset to train on\n",
    "          batch_size = 32) # The number of samples per gradient update for training"
   ]
  },
  {
   "cell_type": "markdown",
   "metadata": {},
   "source": [
    "# Evaluate the model"
   ]
  },
  {
   "cell_type": "code",
   "execution_count": 9,
   "metadata": {},
   "outputs": [
    {
     "name": "stdout",
     "output_type": "stream",
     "text": [
      "313/313 [==============================] - 0s 479us/step - loss: 0.0879 - accuracy: 0.9744\n"
     ]
    },
    {
     "data": {
      "text/plain": [
       "[0.08790314197540283, 0.974399983882904]"
      ]
     },
     "execution_count": 9,
     "metadata": {},
     "output_type": "execute_result"
    }
   ],
   "source": [
    "model.evaluate(test_images,\n",
    "         to_categorical(test_labels))"
   ]
  },
  {
   "cell_type": "markdown",
   "metadata": {},
   "source": [
    "# Save the model"
   ]
  },
  {
   "cell_type": "code",
   "execution_count": 10,
   "metadata": {},
   "outputs": [],
   "source": [
    "model.save(\"model.h5\")"
   ]
  },
  {
   "cell_type": "markdown",
   "metadata": {},
   "source": [
    "# Testing the model"
   ]
  },
  {
   "cell_type": "code",
   "execution_count": 11,
   "metadata": {},
   "outputs": [
    {
     "name": "stdout",
     "output_type": "stream",
     "text": [
      "[7 2 1 0 4]\n",
      "[7 2 1 0 4]\n"
     ]
    }
   ],
   "source": [
    "# Predict on the first 5 test images\n",
    "\n",
    "predictions = model.predict(test_images[:5])\n",
    "\n",
    "# Print the model predictions\n",
    "\n",
    "print(np.argmax(predictions, axis = 1))\n",
    "print(test_labels[:5])"
   ]
  }
 ],
 "metadata": {
  "kernelspec": {
   "display_name": "Python 3",
   "language": "python",
   "name": "python3"
  },
  "language_info": {
   "codemirror_mode": {
    "name": "ipython",
    "version": 3
   },
   "file_extension": ".py",
   "mimetype": "text/x-python",
   "name": "python",
   "nbconvert_exporter": "python",
   "pygments_lexer": "ipython3",
   "version": "3.8.5"
  }
 },
 "nbformat": 4,
 "nbformat_minor": 4
}
